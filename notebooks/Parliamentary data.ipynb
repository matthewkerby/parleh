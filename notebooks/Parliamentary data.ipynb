{
 "cells": [
  {
   "cell_type": "code",
   "execution_count": 1,
   "metadata": {},
   "outputs": [],
   "source": [
    "import json\n",
    "import pandas as pd\n",
    "import requests"
   ]
  },
  {
   "cell_type": "code",
   "execution_count": 2,
   "metadata": {},
   "outputs": [],
   "source": [
    "parl_api_url = 'https://lop.parl.ca/ParlinfoWebAPI'"
   ]
  },
  {
   "cell_type": "code",
   "execution_count": 81,
   "metadata": {},
   "outputs": [],
   "source": [
    "r = requests.get(\n",
    "    parl_api_url + '/Person/SearchAndRefine?refiners=4-1,',\n",
    "    headers={'Accept': 'application/json'}\n",
    ")\n",
    "d = r.json()"
   ]
  },
  {
   "cell_type": "code",
   "execution_count": 80,
   "metadata": {},
   "outputs": [],
   "source": [
    "r = requests.get(\n",
    "    parl_api_url + '/Person/GetPersonWebProfile/4487',\n",
    "    headers={'Accept': 'application/json'}\n",
    ")\n",
    "d = r.json()"
   ]
  },
  {
   "cell_type": "code",
   "execution_count": 82,
   "metadata": {},
   "outputs": [
    {
     "data": {
      "text/plain": [
       "{'User-Agent': 'python-requests/2.22.0', 'Accept-Encoding': 'gzip, deflate', 'Accept': 'application/json', 'Connection': 'keep-alive'}"
      ]
     },
     "execution_count": 82,
     "metadata": {},
     "output_type": "execute_result"
    }
   ],
   "source": [
    "r.request.headers"
   ]
  },
  {
   "cell_type": "code",
   "execution_count": 83,
   "metadata": {},
   "outputs": [
    {
     "data": {
      "text/plain": [
       "{'Cache-Control': 'no-cache', 'Pragma': 'no-cache', 'Content-Length': '4111315', 'Content-Type': 'application/json; charset=utf-8', 'Expires': '-1', 'Server': 'Microsoft-IIS/7.5', 'Access-Control-Allow-Origin': 'lop.parl.ca, lopdev.parl.ca, loptest.parl.ca, lopapp20dv, lopapp20tv, lopapp20v, lopapp21dv, lopapp21tv, lopapp21v', 'X-AspNet-Version': '4.0.30319', 'X-Powered-By': 'ASP.NET, ARR/3.0, ASP.NET', 'X-UA-Compatible': 'IE=edge', 'Date': 'Sun, 06 Oct 2019 15:54:59 GMT'}"
      ]
     },
     "execution_count": 83,
     "metadata": {},
     "output_type": "execute_result"
    }
   ],
   "source": [
    "r.headers"
   ]
  },
  {
   "cell_type": "code",
   "execution_count": 84,
   "metadata": {},
   "outputs": [
    {
     "ename": "AttributeError",
     "evalue": "'list' object has no attribute 'keys'",
     "output_type": "error",
     "traceback": [
      "\u001b[0;31m---------------------------------------------------------------------------\u001b[0m",
      "\u001b[0;31mAttributeError\u001b[0m                            Traceback (most recent call last)",
      "\u001b[0;32m<ipython-input-84-613a994fbca5>\u001b[0m in \u001b[0;36m<module>\u001b[0;34m\u001b[0m\n\u001b[0;32m----> 1\u001b[0;31m \u001b[0msorted\u001b[0m\u001b[0;34m(\u001b[0m\u001b[0md\u001b[0m\u001b[0;34m.\u001b[0m\u001b[0mkeys\u001b[0m\u001b[0;34m(\u001b[0m\u001b[0;34m)\u001b[0m\u001b[0;34m)\u001b[0m\u001b[0;34m\u001b[0m\u001b[0;34m\u001b[0m\u001b[0m\n\u001b[0m",
      "\u001b[0;31mAttributeError\u001b[0m: 'list' object has no attribute 'keys'"
     ]
    }
   ],
   "source": [
    "sorted(d.keys())"
   ]
  },
  {
   "cell_type": "code",
   "execution_count": null,
   "metadata": {},
   "outputs": [],
   "source": [
    "d['Person']"
   ]
  },
  {
   "cell_type": "code",
   "execution_count": 36,
   "metadata": {},
   "outputs": [],
   "source": [
    "for k in list(d.keys()):\n",
    "    if k.endswith('Fr'):\n",
    "        del d[k]"
   ]
  },
  {
   "cell_type": "code",
   "execution_count": 67,
   "metadata": {},
   "outputs": [
    {
     "data": {
      "text/plain": [
       "'Goodale, Ralph'"
      ]
     },
     "execution_count": 67,
     "metadata": {},
     "output_type": "execute_result"
    }
   ],
   "source": [
    "person = d['Person']\n",
    "name = f\"{person['UsedFirstName']} {person['LastName']}\"\n",
    "name = person['DisplayName']\n",
    "name"
   ]
  },
  {
   "cell_type": "code",
   "execution_count": 71,
   "metadata": {},
   "outputs": [
    {
     "data": {
      "text/plain": [
       "'Goodale, Ralph.json'"
      ]
     },
     "execution_count": 71,
     "metadata": {},
     "output_type": "execute_result"
    }
   ],
   "source": [
    "filename = name.replace(' ', '_') + '.json'\n",
    "filename = name + '.json'\n",
    "filename"
   ]
  },
  {
   "cell_type": "code",
   "execution_count": 69,
   "metadata": {},
   "outputs": [],
   "source": [
    "with open(filename, 'w') as f:\n",
    "    json.dump(d, f, indent=2)"
   ]
  },
  {
   "cell_type": "code",
   "execution_count": 60,
   "metadata": {},
   "outputs": [],
   "source": [
    "!code $filename"
   ]
  },
  {
   "cell_type": "code",
   "execution_count": 62,
   "metadata": {},
   "outputs": [
    {
     "data": {
      "text/plain": [
       "['CommitteeMembership',\n",
       " 'DisplayTitleEn',\n",
       " 'DisplayTitleFr',\n",
       " 'Family',\n",
       " 'FamilyTiesInParliament',\n",
       " 'FederalExperience',\n",
       " 'FederalExperienceList',\n",
       " 'MilitaryExperience',\n",
       " 'MunicipalExperience',\n",
       " 'Person',\n",
       " 'PictureCopyrightEn',\n",
       " 'PictureCopyrightFr',\n",
       " 'PictureId',\n",
       " 'PlaceOfBirthEn',\n",
       " 'PlaceOfBirthFr',\n",
       " 'PlaceOfBurialEn',\n",
       " 'PlaceOfBurialFr',\n",
       " 'PreferredLanguageEn',\n",
       " 'PreferredLanguageFr',\n",
       " 'ProfessionsEn',\n",
       " 'ProfessionsFr',\n",
       " 'ProvincialExperience',\n",
       " 'PublicOfficeExperience']"
      ]
     },
     "execution_count": 62,
     "metadata": {},
     "output_type": "execute_result"
    }
   ],
   "source": [
    "sorted(d.keys())"
   ]
  },
  {
   "cell_type": "code",
   "execution_count": 70,
   "metadata": {},
   "outputs": [
    {
     "data": {
      "text/plain": [
       "['Age',\n",
       " 'AssistantCriticOfEn',\n",
       " 'AssistantCriticOfFr',\n",
       " 'AssistantDeputySpeakerChairEn',\n",
       " 'AssistantDeputySpeakerChairFr',\n",
       " 'AssociateMinisterOfEn',\n",
       " 'AssociateMinisterOfFr',\n",
       " 'Bibliography',\n",
       " 'CabinetChairEn',\n",
       " 'CabinetChairFr',\n",
       " 'CityOfBirthEn',\n",
       " 'CityOfBirthFr',\n",
       " 'ConstituencyAddresses',\n",
       " 'ConstituencyEn',\n",
       " 'ConstituencyFr',\n",
       " 'CountryOfBirthEn',\n",
       " 'CountryOfBirthFr',\n",
       " 'CriticOfEn',\n",
       " 'CriticOfFr',\n",
       " 'CurrentConstituencyEn',\n",
       " 'CurrentConstituencyFr',\n",
       " 'CurrentPartyEn',\n",
       " 'CurrentPartyFr',\n",
       " 'DateOfBirth',\n",
       " 'DateOfBirthIsApproximate',\n",
       " 'Death',\n",
       " 'DeputyHouseLeaderEn',\n",
       " 'DeputyHouseLeaderFr',\n",
       " 'DeputyPrimeMinister',\n",
       " 'DeputySpeaker',\n",
       " 'DeputyWhipEn',\n",
       " 'DeputyWhipFr',\n",
       " 'DiedInOffice',\n",
       " 'DisplayName',\n",
       " 'DoNotDiscloseBirthLocation',\n",
       " 'DoNotDiscloseDateOfBirth',\n",
       " 'Education',\n",
       " 'ElectionCandidates',\n",
       " 'EthnicityLongEn',\n",
       " 'EthnicityLongFr',\n",
       " 'ExternalNotesEn',\n",
       " 'ExternalNotesFr',\n",
       " 'FamilyRelations',\n",
       " 'FormalFirstName',\n",
       " 'Gender',\n",
       " 'HOCPersonId',\n",
       " 'HasMaidenSpeech',\n",
       " 'HillAddresses',\n",
       " 'HouseLeaderEn',\n",
       " 'HouseLeaderFr',\n",
       " 'InternalNotes',\n",
       " 'IsCanadianOrigin',\n",
       " 'IsCurrentlyInOffice',\n",
       " 'IsCurrentlyMP',\n",
       " 'IsCurrentlySenator',\n",
       " 'IsDraftProfile',\n",
       " 'IsPrimeMinister',\n",
       " 'LanguageEn',\n",
       " 'LanguageFr',\n",
       " 'Languages',\n",
       " 'LastModified',\n",
       " 'LastName',\n",
       " 'LastUpdatedId',\n",
       " 'LeaderOpposition',\n",
       " 'MaidenName',\n",
       " 'MiddleName',\n",
       " 'MilitaryServiceEn',\n",
       " 'MilitaryServiceFr',\n",
       " 'MinisterOfEn',\n",
       " 'MinisterOfFr',\n",
       " 'MinisterOfStateOfEn',\n",
       " 'MinisterOfStateOfFr',\n",
       " 'MinistryDurationEn',\n",
       " 'MinistryDurationFr',\n",
       " 'ModifiedBy',\n",
       " 'MunicipalExperienceEn',\n",
       " 'MunicipalExperienceFr',\n",
       " 'ParliamentaryAssistantOfEn',\n",
       " 'ParliamentaryAssistantOfFr',\n",
       " 'ParliamentarySecretaryOfEn',\n",
       " 'ParliamentarySecretaryOfFr',\n",
       " 'Parliaments',\n",
       " 'PartyEn',\n",
       " 'PartyFr',\n",
       " 'PartyLeaderEn',\n",
       " 'PartyLeaderFr',\n",
       " 'PersonId',\n",
       " 'Pictures',\n",
       " 'PremiershipExperienceEn',\n",
       " 'PremiershipExperienceFr',\n",
       " 'PrimeMinister',\n",
       " 'PrimeMinisterEn',\n",
       " 'PrimeMinisterFr',\n",
       " 'Professions',\n",
       " 'ProfessionsEn',\n",
       " 'ProfessionsFr',\n",
       " 'ProvinceEn',\n",
       " 'ProvinceFr',\n",
       " 'ProvinceOfBirthEn',\n",
       " 'ProvinceOfBirthFr',\n",
       " 'ProvincialExperienceEn',\n",
       " 'ProvincialExperienceFr',\n",
       " 'ReligionEn',\n",
       " 'ReligionFr',\n",
       " 'Roles',\n",
       " 'SecretaryOfStateOfEn',\n",
       " 'SecretaryOfStateOfFr',\n",
       " 'SenatePersonId',\n",
       " 'SpeakerHouseOfCommons',\n",
       " 'SpeakerProTempore',\n",
       " 'SpeakerSenate',\n",
       " 'StraightDisplayName',\n",
       " 'Titles',\n",
       " 'TypeOfParliamentarianEn',\n",
       " 'TypeOfParliamentarianFr',\n",
       " 'UsedFirstName',\n",
       " 'WebLinks',\n",
       " 'WhipEn',\n",
       " 'WhipFr',\n",
       " 'YearsOfServiceSegments',\n",
       " '_id']"
      ]
     },
     "execution_count": 70,
     "metadata": {},
     "output_type": "execute_result"
    }
   ],
   "source": [
    "sorted(d['Person'].keys())"
   ]
  },
  {
   "cell_type": "code",
   "execution_count": 66,
   "metadata": {},
   "outputs": [
    {
     "data": {
      "text/plain": [
       "['ActingTextEn',\n",
       " 'ActingTextFr',\n",
       " 'Classes',\n",
       " 'Committee',\n",
       " 'Documents',\n",
       " 'EndDate',\n",
       " 'EndDateIsApproximate',\n",
       " 'EndReasonEn',\n",
       " 'EndReasonFr',\n",
       " 'EndReasonTypeEn',\n",
       " 'EndReasonTypeFr',\n",
       " 'GovernorGeneral',\n",
       " 'GroupId',\n",
       " 'GroupingOrder',\n",
       " 'GroupingTitleEn',\n",
       " 'GroupingTitleFr',\n",
       " 'HasCrossedTheFloor',\n",
       " 'InternalNotes',\n",
       " 'IsActing',\n",
       " 'IsCurrent',\n",
       " 'IsMP',\n",
       " 'IsSenator',\n",
       " 'IsSenatorialDivision',\n",
       " 'MemberOfParliament',\n",
       " 'NameEn',\n",
       " 'NameFr',\n",
       " 'NotesEn',\n",
       " 'NotesFr',\n",
       " 'Ordinal',\n",
       " 'OrganizationAcronymEn',\n",
       " 'OrganizationAcronymFr',\n",
       " 'OrganizationHasProfile',\n",
       " 'OrganizationId',\n",
       " 'OrganizationLongEn',\n",
       " 'OrganizationLongFr',\n",
       " 'OrganizationProvinceEn',\n",
       " 'OrganizationProvinceFr',\n",
       " 'OrganizationShortEn',\n",
       " 'OrganizationShortFr',\n",
       " 'OrganizationTypeEn',\n",
       " 'OrganizationTypeFr',\n",
       " 'OrganizationTypeId',\n",
       " 'ParliamentEnd',\n",
       " 'ParliamentNumber',\n",
       " 'ParliamentStart',\n",
       " 'PartyEn',\n",
       " 'PartyEndDate',\n",
       " 'PartyFr',\n",
       " 'PartyOrganizationId',\n",
       " 'PartyStartDate',\n",
       " 'PersonRoleId',\n",
       " 'PortFolioEn',\n",
       " 'PortFolioFr',\n",
       " 'RoleId',\n",
       " 'Senator',\n",
       " 'Source',\n",
       " 'SourceOfInformationEn',\n",
       " 'SourceOfInformationFr',\n",
       " 'StartDate',\n",
       " 'StartDateIsApproximate',\n",
       " 'ToBeStyledAsEn',\n",
       " 'ToBeStyledAsFr']"
      ]
     },
     "execution_count": 66,
     "metadata": {},
     "output_type": "execute_result"
    }
   ],
   "source": [
    "sorted(d['FederalExperience'][0].keys())"
   ]
  },
  {
   "cell_type": "code",
   "execution_count": 4,
   "metadata": {},
   "outputs": [
    {
     "data": {
      "text/plain": [
       "PersonId                    16267\n",
       "LastName                    16267\n",
       "UsedFirstName               16267\n",
       "StraightDisplayName         16267\n",
       "Gender                      16267\n",
       "LanguageEn                   4494\n",
       "PartyEn                     16267\n",
       "ConstituencyEn              16267\n",
       "ProvinceEn                  16266\n",
       "TypeOfParliamentarianEn     16267\n",
       "DateOfBirth                 16186\n",
       "DateOfBirthIsApproximate    16267\n",
       "CityOfBirthEn               15761\n",
       "ProvinceOfBirthEn           12379\n",
       "CountryOfBirthEn            15822\n",
       "IsCanadianOrigin            16267\n",
       "DiedInOffice                16267\n",
       "DateOfDeath                 11766\n",
       "DeceasedOnDuty              11766\n",
       "dtype: int64"
      ]
     },
     "execution_count": 4,
     "metadata": {},
     "output_type": "execute_result"
    }
   ],
   "source": [
    "current_parliament = 43\n",
    "dfs = [pd.read_csv('../data/parliaments/parliament-%d-people.csv' % parliament) for parliament in range(1, current_parliament + 1)]\n",
    "df = pd.concat(dfs)\n",
    "df.count()"
   ]
  },
  {
   "cell_type": "code",
   "execution_count": 98,
   "metadata": {},
   "outputs": [
    {
     "data": {
      "text/plain": [
       "IsCanadianOrigin               1\n",
       "DeceasedOnDuty                 2\n",
       "DiedInOffice                   2\n",
       "Gender                         2\n",
       "DateOfBirthIsApproximate       2\n",
       "LanguageEn                    29\n",
       "CountryOfBirthEn              78\n",
       "ProvinceEn                    96\n",
       "ProvinceOfBirthEn            163\n",
       "CityOfBirthEn               2209\n",
       "TypeOfParliamentarianEn     2713\n",
       "LastName                    3024\n",
       "PartyEn                     3099\n",
       "UsedFirstName               3247\n",
       "DateOfDeath                 3482\n",
       "DateOfBirth                 4766\n",
       "StraightDisplayName         5054\n",
       "ConstituencyEn              5071\n",
       "PersonId                    5087\n",
       "dtype: int64"
      ]
     },
     "execution_count": 98,
     "metadata": {},
     "output_type": "execute_result"
    }
   ],
   "source": [
    "df.nunique().sort_values()"
   ]
  },
  {
   "cell_type": "code",
   "execution_count": 91,
   "metadata": {},
   "outputs": [
    {
     "data": {
      "text/plain": [
       "5087"
      ]
     },
     "execution_count": 91,
     "metadata": {},
     "output_type": "execute_result"
    }
   ],
   "source": [
    "df['PersonId'].nunique()"
   ]
  },
  {
   "cell_type": "code",
   "execution_count": 92,
   "metadata": {},
   "outputs": [
    {
     "data": {
      "text/plain": [
       "5054"
      ]
     },
     "execution_count": 92,
     "metadata": {},
     "output_type": "execute_result"
    }
   ],
   "source": [
    "df['StraightDisplayName'].nunique()"
   ]
  },
  {
   "cell_type": "code",
   "execution_count": null,
   "metadata": {},
   "outputs": [],
   "source": [
    "df"
   ]
  }
 ],
 "metadata": {
  "kernelspec": {
   "display_name": "parleh-uCbbmVrw",
   "language": "python",
   "name": "parleh-ucbbmvrw"
  },
  "language_info": {
   "codemirror_mode": {
    "name": "ipython",
    "version": 3
   },
   "file_extension": ".py",
   "mimetype": "text/x-python",
   "name": "python",
   "nbconvert_exporter": "python",
   "pygments_lexer": "ipython3",
   "version": "3.7.1"
  }
 },
 "nbformat": 4,
 "nbformat_minor": 2
}
