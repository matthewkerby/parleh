{
 "cells": [
  {
   "cell_type": "code",
   "execution_count": null,
   "metadata": {},
   "outputs": [],
   "source": [
    "import json\n",
    "import os\n",
    "import pandas as pd\n",
    "import re\n",
    "import requests"
   ]
  },
  {
   "cell_type": "code",
   "execution_count": null,
   "metadata": {},
   "outputs": [],
   "source": [
    "parl_api_url = 'https://lop.parl.ca/ParlinfoWebAPI'\n",
    "accept_json = {'Accept': 'application/json'}"
   ]
  },
  {
   "cell_type": "code",
   "execution_count": null,
   "metadata": {},
   "outputs": [],
   "source": [
    "def drop_time(df):\n",
    "    date_cols = [col for col in df.columns if col.endswith('Date')]\n",
    "    for col in date_cols:\n",
    "        df[col] = df[col].str[:10]\n",
    "\n",
    "def drop_french(df):\n",
    "    to_drop = [col for col in df.columns if col.endswith('Fr')]\n",
    "    df.drop(to_drop, axis=1, inplace=True)\n",
    "    \n",
    "def drop_empty_cols(df):\n",
    "    to_drop = [col for col in df.columns if df[col].count() == 0]\n",
    "    df.drop(to_drop, axis=1, inplace=True)\n",
    "    \n",
    "def cleanup(df):\n",
    "    drop_time(df)\n",
    "    drop_french(df)\n",
    "    drop_empty_cols(df)"
   ]
  },
  {
   "cell_type": "code",
   "execution_count": null,
   "metadata": {},
   "outputs": [],
   "source": [
    "r = requests.get(parl_api_url + '/Person/SearchAndRefine?refiners=4-1,', headers=accept_json)\n",
    "d = r.json()\n",
    "len(d)"
   ]
  },
  {
   "cell_type": "code",
   "execution_count": null,
   "metadata": {},
   "outputs": [],
   "source": [
    "r = requests.get(parl_api_url + '/Person/SearchAndRefine?refiners=28-1,28-2,28-3,', headers=accept_json)\n",
    "d = r.json()\n",
    "len(d)"
   ]
  },
  {
   "cell_type": "code",
   "execution_count": null,
   "metadata": {},
   "outputs": [],
   "source": [
    "len(d[0]['Roles'])"
   ]
  },
  {
   "cell_type": "code",
   "execution_count": null,
   "metadata": {
    "scrolled": true
   },
   "outputs": [],
   "source": [
    "rows = [{k: (p[k] if k in p else None) for k in ['PersonId', 'LastName', 'UsedFirstName', 'ProvincialExperienceEN', 'MunicipalExperienceEn']} for p in d]\n",
    "len(rows)"
   ]
  },
  {
   "cell_type": "code",
   "execution_count": null,
   "metadata": {},
   "outputs": [],
   "source": [
    "df = pd.DataFrame(rows)\n",
    "df"
   ]
  },
  {
   "cell_type": "code",
   "execution_count": null,
   "metadata": {},
   "outputs": [],
   "source": [
    "df['ProvincialExperienceEN'].value_counts()"
   ]
  },
  {
   "cell_type": "code",
   "execution_count": null,
   "metadata": {},
   "outputs": [],
   "source": [
    "df[df['LastName'] == 'Aglukkaq']"
   ]
  },
  {
   "cell_type": "code",
   "execution_count": null,
   "metadata": {},
   "outputs": [],
   "source": [
    "r = requests.get(parl_api_url + '/Person/GetPersonWebProfile/4487', headers=accept_json)\n",
    "d = r.json()\n",
    "len(d)"
   ]
  },
  {
   "cell_type": "code",
   "execution_count": null,
   "metadata": {},
   "outputs": [],
   "source": [
    "sorted(d.keys())"
   ]
  },
  {
   "cell_type": "code",
   "execution_count": null,
   "metadata": {},
   "outputs": [],
   "source": [
    "for k in list(d.keys()):\n",
    "    if k.endswith('Fr'):\n",
    "        del d[k]"
   ]
  },
  {
   "cell_type": "code",
   "execution_count": null,
   "metadata": {},
   "outputs": [],
   "source": [
    "person = d['Person']\n",
    "name = f\"{person['UsedFirstName']} {person['LastName']}\"\n",
    "name = person['DisplayName']\n",
    "name"
   ]
  },
  {
   "cell_type": "code",
   "execution_count": null,
   "metadata": {},
   "outputs": [],
   "source": [
    "filename = name.replace(' ', '_') + '.json'\n",
    "filename = name + '.json'\n",
    "filename"
   ]
  },
  {
   "cell_type": "code",
   "execution_count": null,
   "metadata": {},
   "outputs": [],
   "source": [
    "with open(filename, 'w') as f:\n",
    "    json.dump(d, f, indent=2)"
   ]
  },
  {
   "cell_type": "code",
   "execution_count": null,
   "metadata": {},
   "outputs": [],
   "source": [
    "!code $filename"
   ]
  },
  {
   "cell_type": "code",
   "execution_count": null,
   "metadata": {},
   "outputs": [],
   "source": [
    "sorted(d.keys())"
   ]
  },
  {
   "cell_type": "code",
   "execution_count": null,
   "metadata": {},
   "outputs": [],
   "source": [
    "sorted(d['Person'].keys())"
   ]
  },
  {
   "cell_type": "code",
   "execution_count": null,
   "metadata": {},
   "outputs": [],
   "source": [
    "[key for key in sorted(d['Person']['Roles'][0].keys()) if not key.endswith('Fr')]"
   ]
  },
  {
   "cell_type": "code",
   "execution_count": null,
   "metadata": {},
   "outputs": [],
   "source": [
    "current_parliament = 43\n",
    "dfs = []\n",
    "for parliament in range(1, current_parliament + 1):\n",
    "    df = pd.read_csv('../data/parliaments/parliament-%d-people.csv' % parliament)\n",
    "    df.insert(0, 'parliament', parliament)\n",
    "    dfs.append(df)\n",
    "df = pd.concat(dfs)\n",
    "df.count()"
   ]
  },
  {
   "cell_type": "code",
   "execution_count": null,
   "metadata": {},
   "outputs": [],
   "source": [
    "df.to_csv('../data/parliaments/all_parliaments.csv', index=False, encoding='utf8')"
   ]
  },
  {
   "cell_type": "code",
   "execution_count": null,
   "metadata": {},
   "outputs": [],
   "source": [
    "df.nunique().sort_values(ascending=False)"
   ]
  },
  {
   "cell_type": "code",
   "execution_count": null,
   "metadata": {},
   "outputs": [],
   "source": [
    "df['PersonId'].nunique()"
   ]
  },
  {
   "cell_type": "code",
   "execution_count": null,
   "metadata": {},
   "outputs": [],
   "source": [
    "df['StraightDisplayName'].nunique()"
   ]
  },
  {
   "cell_type": "code",
   "execution_count": null,
   "metadata": {},
   "outputs": [],
   "source": [
    "def num_prefix(str):\n",
    "    return int(str.split('-')[0])\n",
    "\n",
    "def name_suffix(str):\n",
    "    return str.split('-')[-1]"
   ]
  },
  {
   "cell_type": "code",
   "execution_count": null,
   "metadata": {},
   "outputs": [],
   "source": [
    "# Match people .json files\n",
    "pattern = re.compile('[0-9]+-.+\\.json$')\n",
    "people_dir = '../data/people'\n",
    "files = sorted(filter(lambda d: pattern.match(d), os.listdir(people_dir)), key=name_suffix)\n",
    "len(files)"
   ]
  },
  {
   "cell_type": "code",
   "execution_count": null,
   "metadata": {},
   "outputs": [],
   "source": [
    "def person_recs(n = None):\n",
    "    for file in files[:n] if n else files:\n",
    "        with open(os.path.join(people_dir, file)) as f:\n",
    "            yield json.load(f)"
   ]
  },
  {
   "cell_type": "code",
   "execution_count": null,
   "metadata": {},
   "outputs": [],
   "source": [
    "person_cols = ['PersonId', 'LastName', 'UsedFirstName']\n",
    "role_cols = ['PersonRoleId', 'ParliamentNumber', 'PartyEn', 'ToBeStyledAsEn',\n",
    "             'OrganizationTypeEn', 'OrganizationLongEn', 'GroupingTitleEn', 'PortFolioEn', 'NameEn', \n",
    "             'IsMP', 'IsSenator', 'IsActing',\n",
    "             'StartDate', 'StartDateIsApproximate', \n",
    "             'EndDate', 'EndDateIsApproximate', 'NotesEn']\n",
    "\n",
    "rows = []\n",
    "for rec in person_recs():\n",
    "    person = rec['Person']\n",
    "    person_tuple = tuple(person[col] for col in person_cols)\n",
    "    for role in rec['FederalExperience']:\n",
    "        role_tuple = tuple(role[col] for col in role_cols)\n",
    "        row = person_tuple + role_tuple\n",
    "        rows.append(row)\n",
    "len(rows)\n"
   ]
  },
  {
   "cell_type": "code",
   "execution_count": null,
   "metadata": {},
   "outputs": [],
   "source": [
    "person_cols = ['PersonId', 'LastName', 'UsedFirstName']\n",
    "role_cols = ['PersonRoleId', 'ParliamentNumber', 'PartyEn', 'ToBeStyledAsEn',\n",
    "             'OrganizationTypeEn', 'OrganizationLongEn', 'GroupingTitleEn', 'PortFolioEn', 'NameEn', \n",
    "             'IsMP', 'IsSenator', 'IsActing',\n",
    "             'StartDate', 'StartDateIsApproximate', \n",
    "             'EndDate', 'EndDateIsApproximate', 'EndReasonEn', 'EndReasonTypeEn', \n",
    "             'NotesEn']\n",
    "\n",
    "rows = []\n",
    "for rec in person_recs():\n",
    "    person = rec['Person']\n",
    "    person_tuple = tuple(person[col] for col in person_cols)\n",
    "    for role in rec['FederalExperience']:\n",
    "        role_tuple = tuple(role[col] for col in role_cols)\n",
    "        row = person_tuple + role_tuple\n",
    "        rows.append(row)\n",
    "len(rows)"
   ]
  },
  {
   "cell_type": "code",
   "execution_count": null,
   "metadata": {
    "scrolled": false
   },
   "outputs": [],
   "source": [
    "df = pd.DataFrame(rows, columns = person_cols + role_cols) \\\n",
    "  .sort_values(['LastName', 'UsedFirstName', 'PersonId', 'StartDate', 'PersonRoleId'])\n",
    "df = df.drop_duplicates()\n",
    "len(df)"
   ]
  },
  {
   "cell_type": "code",
   "execution_count": null,
   "metadata": {},
   "outputs": [],
   "source": [
    "cleanup(df)\n",
    "df.sample(5)"
   ]
  },
  {
   "cell_type": "code",
   "execution_count": null,
   "metadata": {},
   "outputs": [],
   "source": [
    "df.loc[39471]"
   ]
  },
  {
   "cell_type": "code",
   "execution_count": null,
   "metadata": {},
   "outputs": [],
   "source": [
    "df['ToBeStyledAsEn'].value_counts()[:30]"
   ]
  },
  {
   "cell_type": "code",
   "execution_count": null,
   "metadata": {},
   "outputs": [],
   "source": [
    "filename = os.path.join(people_dir, 'fed_roles.csv')\n",
    "df.to_csv(filename, index=False, encoding='utf8')"
   ]
  },
  {
   "cell_type": "code",
   "execution_count": null,
   "metadata": {},
   "outputs": [],
   "source": [
    "!open $filename"
   ]
  },
  {
   "cell_type": "code",
   "execution_count": null,
   "metadata": {},
   "outputs": [],
   "source": [
    "person_cols = ['PersonId', 'LastName', 'UsedFirstName']\n",
    "education_cols = ['SchoolNameLongEn', 'FieldOfStudyEn', 'DiplomaLongEn', 'GraduationYear']\n",
    "\n",
    "rows = []\n",
    "for rec in person_recs():\n",
    "    person = rec['Person']\n",
    "    person_tuple = tuple(person[col] for col in person_cols)\n",
    "    if person['Education']:\n",
    "        for edu in person['Education']:\n",
    "            edu_tuple = tuple(edu[col] for col in education_cols)\n",
    "            row = person_tuple + edu_tuple\n",
    "            rows.append(row)\n",
    "len(rows)\n"
   ]
  },
  {
   "cell_type": "code",
   "execution_count": null,
   "metadata": {},
   "outputs": [],
   "source": [
    "df = pd.DataFrame(rows, columns = person_cols + education_cols) \\\n",
    "  .sort_values(['LastName', 'UsedFirstName', 'PersonId', 'GraduationYear'])\n",
    "df = df.drop_duplicates()\n",
    "len(df)"
   ]
  },
  {
   "cell_type": "code",
   "execution_count": null,
   "metadata": {},
   "outputs": [],
   "source": [
    "df.sample(25)"
   ]
  },
  {
   "cell_type": "code",
   "execution_count": null,
   "metadata": {},
   "outputs": [],
   "source": [
    "filename = os.path.join(people_dir, 'education.csv')\n",
    "df.to_csv(filename, index=False, encoding='utf8')"
   ]
  },
  {
   "cell_type": "code",
   "execution_count": null,
   "metadata": {},
   "outputs": [],
   "source": [
    "education_cols"
   ]
  },
  {
   "cell_type": "code",
   "execution_count": null,
   "metadata": {},
   "outputs": [],
   "source": [
    "parl_num = 42\n",
    "parl = df[df['ParliamentNumber'] == parl_num]\n",
    "parl"
   ]
  },
  {
   "cell_type": "code",
   "execution_count": null,
   "metadata": {},
   "outputs": [],
   "source": [
    "filename = os.path.join(people_dir, f'parl_{parl_num}_roles.csv')\n",
    "parl42.to_csv(filename, index=False, encoding='utf8')"
   ]
  },
  {
   "cell_type": "code",
   "execution_count": null,
   "metadata": {},
   "outputs": [],
   "source": [
    "!open $filename"
   ]
  },
  {
   "cell_type": "code",
   "execution_count": null,
   "metadata": {},
   "outputs": [],
   "source": [
    "mp_roles = df[df['IsMP']].drop_duplicates()\n",
    "len(mp_roles)"
   ]
  },
  {
   "cell_type": "code",
   "execution_count": null,
   "metadata": {},
   "outputs": [],
   "source": [
    "mp_roles.nunique().sort_values(ascending=False)"
   ]
  },
  {
   "cell_type": "code",
   "execution_count": null,
   "metadata": {},
   "outputs": [],
   "source": [
    "mp_roles.fillna('').groupby(['GroupingTitleEn', 'OrganizationTypeEn', 'PortFolioEn', 'NameEn'])[['PersonRoleId']].count()"
   ]
  },
  {
   "cell_type": "code",
   "execution_count": null,
   "metadata": {
    "scrolled": true
   },
   "outputs": [],
   "source": [
    "mp_roles.fillna('').groupby(['GroupingTitleEn', 'OrganizationTypeEn']).nunique()"
   ]
  },
  {
   "cell_type": "code",
   "execution_count": null,
   "metadata": {},
   "outputs": [],
   "source": [
    "mp_roles.nunique()"
   ]
  },
  {
   "cell_type": "code",
   "execution_count": null,
   "metadata": {},
   "outputs": [],
   "source": [
    "mp_roles = mp_roles.drop(['GroupingTitleEn', 'PortFolioEn', 'NameEn', 'IsMP', 'IsSenator', 'IsActing'], axis=1)\n",
    "mp_roles"
   ]
  },
  {
   "cell_type": "code",
   "execution_count": null,
   "metadata": {},
   "outputs": [],
   "source": [
    "mp_roles['PersonRoleId'].value_counts()[:25]"
   ]
  },
  {
   "cell_type": "code",
   "execution_count": null,
   "metadata": {},
   "outputs": [],
   "source": [
    "cols = ['PersonId', 'LastName', 'UsedFirstName', 'PersonRoleId', 'StartDate', 'EndDate',\n",
    "        'PartyEn', 'OrganizationTypeEn', 'OrganizationLongEn']\n",
    "mp_roles = mp_roles[cols]\n",
    "mp_roles"
   ]
  },
  {
   "cell_type": "code",
   "execution_count": null,
   "metadata": {},
   "outputs": [],
   "source": [
    "mp_roles.to_csv(os.path.join(people_dir, 'mp_roles.csv'), index=False, encoding='utf8')"
   ]
  },
  {
   "cell_type": "code",
   "execution_count": null,
   "metadata": {},
   "outputs": [],
   "source": [
    "df.columns"
   ]
  },
  {
   "cell_type": "code",
   "execution_count": null,
   "metadata": {},
   "outputs": [],
   "source": [
    "df['GroupingTitleEn'].fillna('').value_counts()"
   ]
  },
  {
   "cell_type": "code",
   "execution_count": null,
   "metadata": {},
   "outputs": [],
   "source": [
    "df['OrganizationTypeEn'].fillna('').value_counts()"
   ]
  },
  {
   "cell_type": "code",
   "execution_count": null,
   "metadata": {},
   "outputs": [],
   "source": [
    "df['IsMP'].fillna('').value_counts()"
   ]
  },
  {
   "cell_type": "code",
   "execution_count": null,
   "metadata": {},
   "outputs": [],
   "source": [
    "parl_roles = df[df['GroupingTitleEn'] == 'Parliamentarian']\n",
    "parl_roles.count()"
   ]
  },
  {
   "cell_type": "code",
   "execution_count": null,
   "metadata": {},
   "outputs": [],
   "source": [
    "mps_df = df[df['IsMP']]\n",
    "mps_df[['GroupingTitleEn', 'OrganizationTypeEn', 'OrganizationLongEn', 'GroupingTitleEn', 'PortFolioEn', 'NameEn', 'IsMP']].nunique()"
   ]
  },
  {
   "cell_type": "code",
   "execution_count": null,
   "metadata": {},
   "outputs": [],
   "source": [
    "mps_df['GroupingTitleEn'].value_counts()"
   ]
  },
  {
   "cell_type": "code",
   "execution_count": null,
   "metadata": {},
   "outputs": [],
   "source": [
    "mps_df['OrganizationTypeEn'].value_counts()"
   ]
  },
  {
   "cell_type": "code",
   "execution_count": null,
   "metadata": {},
   "outputs": [],
   "source": [
    "mps_df['OrganizationLongEn'].value_counts()"
   ]
  },
  {
   "cell_type": "code",
   "execution_count": null,
   "metadata": {},
   "outputs": [],
   "source": [
    "mps_df['PortFolioEn'].value_counts()"
   ]
  },
  {
   "cell_type": "code",
   "execution_count": null,
   "metadata": {},
   "outputs": [],
   "source": [
    "mps_df['NameEn'].value_counts()"
   ]
  },
  {
   "cell_type": "code",
   "execution_count": null,
   "metadata": {},
   "outputs": [],
   "source": [
    "parl_roles.fillna('') \\\n",
    "  .groupby(['OrganizationTypeEn', 'OrganizationLongEn', 'GroupingTitleEn', 'PortFolioEn', 'NameEn', 'IsMP'])[['PersonRoleId']].count() \\\n",
    "  [:25]"
   ]
  },
  {
   "cell_type": "code",
   "execution_count": null,
   "metadata": {},
   "outputs": [],
   "source": [
    "df['PartyEn'].value_counts()"
   ]
  },
  {
   "cell_type": "code",
   "execution_count": null,
   "metadata": {},
   "outputs": [],
   "source": [
    "df['IsActing'].value_counts()"
   ]
  },
  {
   "cell_type": "code",
   "execution_count": null,
   "metadata": {},
   "outputs": [],
   "source": [
    "df.groupby(['EndReasonTypeEn', 'EndReasonEn'])[['PersonRoleId']].count()"
   ]
  },
  {
   "cell_type": "code",
   "execution_count": null,
   "metadata": {},
   "outputs": [],
   "source": [
    "df[df['EndReasonTypeEn'] == 'Resignation']"
   ]
  },
  {
   "cell_type": "code",
   "execution_count": null,
   "metadata": {},
   "outputs": [],
   "source": [
    "df2 = df[~df['EndReasonTypeEn'].isna() | ~df['EndReasonEn'].isna()]\n",
    "df2"
   ]
  },
  {
   "cell_type": "code",
   "execution_count": null,
   "metadata": {},
   "outputs": [],
   "source": [
    "df[['EndReasonEn', 'EndReasonTypeEn']].drop_duplicates()"
   ]
  },
  {
   "cell_type": "code",
   "execution_count": null,
   "metadata": {},
   "outputs": [],
   "source": [
    "df.fillna('na').pivot_table(\n",
    "    index=['EndReasonTypeEn', 'EndReasonEn'],\n",
    "    values=['PartyEn', 'PersonId', 'PersonRoleId'],\n",
    "    aggfunc='nunique'\n",
    ")[['PartyEn', 'PersonId', 'PersonRoleId']]"
   ]
  },
  {
   "cell_type": "code",
   "execution_count": null,
   "metadata": {},
   "outputs": [],
   "source": [
    "df.fillna('na').groupby(['EndReasonTypeEn', 'EndReasonEn'])[['PartyEn', 'PersonId', 'PersonRoleId']].nunique() \\\n",
    "  .sort_values('PersonRoleId', ascending=False)"
   ]
  },
  {
   "cell_type": "code",
   "execution_count": null,
   "metadata": {},
   "outputs": [],
   "source": [
    "df[df['EndReasonEn'] == 'Resigned between May 30, 1930 and September 9,1930.']"
   ]
  },
  {
   "cell_type": "code",
   "execution_count": null,
   "metadata": {},
   "outputs": [],
   "source": [
    "row = df.loc[107319]\n",
    "row"
   ]
  },
  {
   "cell_type": "code",
   "execution_count": null,
   "metadata": {},
   "outputs": [],
   "source": [
    "row = 107319\n",
    "df.loc[row, 'NotesEn'] = df.loc[row, 'EndReasonEn']\n",
    "df.loc[row, 'EndReasonEn'] = None"
   ]
  },
  {
   "cell_type": "code",
   "execution_count": null,
   "metadata": {},
   "outputs": [],
   "source": [
    "df['PersonRoleId'].count(), df['PersonRoleId'].nunique()"
   ]
  },
  {
   "cell_type": "code",
   "execution_count": null,
   "metadata": {},
   "outputs": [],
   "source": [
    "df[:50]"
   ]
  },
  {
   "cell_type": "code",
   "execution_count": null,
   "metadata": {},
   "outputs": [],
   "source": [
    "df[:50].sort_values(['LastName', 'UsedFirstName', 'StartDate', 'PersonRoleId'])"
   ]
  },
  {
   "cell_type": "code",
   "execution_count": null,
   "metadata": {},
   "outputs": [],
   "source": [
    "len(df)"
   ]
  },
  {
   "cell_type": "code",
   "execution_count": null,
   "metadata": {},
   "outputs": [],
   "source": [
    "path = os.path.join(people_dir, 'person_roles.csv')\n",
    "df.to_csv(path, index=False, encoding='utf8')"
   ]
  },
  {
   "cell_type": "markdown",
   "metadata": {},
   "source": [
    "# Candidates\n",
    "From https://lop.parl.ca/sites/ParlInfo/default/en_CA/ElectionsRidings/Elections"
   ]
  },
  {
   "cell_type": "code",
   "execution_count": null,
   "metadata": {},
   "outputs": [],
   "source": [
    "r = requests.get(parl_api_url + '/Parliament/GetCandidates', headers=accept_json)\n",
    "d = r.json()\n",
    "len(d)"
   ]
  },
  {
   "cell_type": "code",
   "execution_count": null,
   "metadata": {},
   "outputs": [],
   "source": [
    "candidates = pd.DataFrame(d)\n",
    "candidates.count()"
   ]
  },
  {
   "cell_type": "code",
   "execution_count": null,
   "metadata": {},
   "outputs": [],
   "source": [
    "cleanup(candidates)\n",
    "candidates.count()"
   ]
  },
  {
   "cell_type": "code",
   "execution_count": null,
   "metadata": {},
   "outputs": [],
   "source": [
    "candidates = candidates.sort_values(['ParliamentNumber', 'ProvinceEn', 'ConstituencyEn', 'Votes', 'DisplayName'])\n",
    "candidates[:10]"
   ]
  },
  {
   "cell_type": "code",
   "execution_count": null,
   "metadata": {},
   "outputs": [],
   "source": [
    "# Constituencies with ties\n",
    "wins = candidates[candidates['ResultLongEn'] == 'Elected']\n",
    "cols = ['ParliamentNumber', 'ElectionId', 'IsGeneral', 'ElectionDate', 'ProvinceEn', 'ConstituencyId', 'ConstituencyEn', 'Votes', 'ResultLongEn']\n",
    "grp = wins.groupby(cols, as_index=False)[['DisplayName']].count()\n",
    "ties = grp[grp['DisplayName'] > 1]\n",
    "ties.sort_values('Votes', ascending=False)"
   ]
  },
  {
   "cell_type": "code",
   "execution_count": null,
   "metadata": {},
   "outputs": [],
   "source": [
    "wins[(wins['ElectionId'] == 527) & (wins['ConstituencyId'] == 6971)]"
   ]
  },
  {
   "cell_type": "code",
   "execution_count": null,
   "metadata": {},
   "outputs": [],
   "source": [
    "candidates.to_csv('../data/parliaments/candidates.csv', index=False, encoding='utf8')"
   ]
  },
  {
   "cell_type": "markdown",
   "metadata": {},
   "source": [
    "# Roles v2"
   ]
  },
  {
   "cell_type": "code",
   "execution_count": null,
   "metadata": {},
   "outputs": [],
   "source": [
    "with open(os.path.join(people_dir, 'parlinfo_28-1_28-2_28-3.json')) as f:\n",
    "    people = json.load(f)"
   ]
  },
  {
   "cell_type": "code",
   "execution_count": 100,
   "metadata": {
    "scrolled": false
   },
   "outputs": [
    {
     "data": {
      "text/plain": [
       "['Age',\n",
       " 'AssistantCriticOfEn',\n",
       " 'AssistantCriticOfFr',\n",
       " 'AssistantDeputySpeakerChairEn',\n",
       " 'AssistantDeputySpeakerChairFr',\n",
       " 'AssociateMinisterOfEn',\n",
       " 'AssociateMinisterOfFr',\n",
       " 'Bibliography',\n",
       " 'CabinetChairEn',\n",
       " 'CabinetChairFr',\n",
       " 'CabinetCommitteeMemberEn',\n",
       " 'CabinetCommitteeMemberFr',\n",
       " 'CityOfBirthEn',\n",
       " 'CityOfBirthFr',\n",
       " 'ConstituencyAddresses',\n",
       " 'ConstituencyEn',\n",
       " 'ConstituencyFr',\n",
       " 'CountryOfBirthEn',\n",
       " 'CountryOfBirthFr',\n",
       " 'CriticOfEn',\n",
       " 'CriticOfFr',\n",
       " 'CurrentConstituencyEn',\n",
       " 'CurrentConstituencyFr',\n",
       " 'CurrentPartyEn',\n",
       " 'CurrentPartyFr',\n",
       " 'DateOfBirth',\n",
       " 'DateOfBirthIsApproximate',\n",
       " 'Death',\n",
       " 'DeputyHouseLeaderEn',\n",
       " 'DeputyHouseLeaderFr',\n",
       " 'DeputyPrimeMinister',\n",
       " 'DeputySpeaker',\n",
       " 'DeputyWhipEn',\n",
       " 'DeputyWhipFr',\n",
       " 'DiedInOffice',\n",
       " 'DisplayName',\n",
       " 'DoNotDiscloseBirthLocation',\n",
       " 'DoNotDiscloseDateOfBirth',\n",
       " 'Education',\n",
       " 'ElectionCandidates',\n",
       " 'EthnicityLongEn',\n",
       " 'EthnicityLongFr',\n",
       " 'ExternalNotesEn',\n",
       " 'ExternalNotesFr',\n",
       " 'FamilyRelations',\n",
       " 'FormalFirstName',\n",
       " 'Gender',\n",
       " 'HOCPersonId',\n",
       " 'HasMaidenSpeech',\n",
       " 'HillAddresses',\n",
       " 'HouseLeaderEn',\n",
       " 'HouseLeaderFr',\n",
       " 'InternalNotes',\n",
       " 'IsCanadianOrigin',\n",
       " 'IsCurrentlyInOffice',\n",
       " 'IsCurrentlyMP',\n",
       " 'IsCurrentlySenator',\n",
       " 'IsDraftProfile',\n",
       " 'IsPrimeMinister',\n",
       " 'LanguageEn',\n",
       " 'LanguageFr',\n",
       " 'Languages',\n",
       " 'LastModified',\n",
       " 'LastName',\n",
       " 'LastUpdatedId',\n",
       " 'LeaderOpposition',\n",
       " 'MaidenName',\n",
       " 'MiddleName',\n",
       " 'MilitaryServiceEn',\n",
       " 'MilitaryServiceFr',\n",
       " 'MinisterOfEn',\n",
       " 'MinisterOfFr',\n",
       " 'MinisterOfStateOfEn',\n",
       " 'MinisterOfStateOfFr',\n",
       " 'MinistryDurationEn',\n",
       " 'MinistryDurationFr',\n",
       " 'ModifiedBy',\n",
       " 'MunicipalExperienceEn',\n",
       " 'MunicipalExperienceFr',\n",
       " 'ParliamentaryAssistantOfEn',\n",
       " 'ParliamentaryAssistantOfFr',\n",
       " 'ParliamentarySecretaryOfEn',\n",
       " 'ParliamentarySecretaryOfFr',\n",
       " 'Parliaments',\n",
       " 'PartyEn',\n",
       " 'PartyFr',\n",
       " 'PartyLeaderEn',\n",
       " 'PartyLeaderFr',\n",
       " 'PersonId',\n",
       " 'Pictures',\n",
       " 'PremiershipExperienceEn',\n",
       " 'PremiershipExperienceFr',\n",
       " 'PrimeMinister',\n",
       " 'PrimeMinisterEn',\n",
       " 'PrimeMinisterFr',\n",
       " 'Professions',\n",
       " 'ProfessionsEn',\n",
       " 'ProfessionsFr',\n",
       " 'ProvinceEn',\n",
       " 'ProvinceFr',\n",
       " 'ProvinceOfBirthEn',\n",
       " 'ProvinceOfBirthFr',\n",
       " 'ProvincialExperienceEn',\n",
       " 'ProvincialExperienceFr',\n",
       " 'ReligionEn',\n",
       " 'ReligionFr',\n",
       " 'Roles',\n",
       " 'SecretaryOfStateOfEn',\n",
       " 'SecretaryOfStateOfFr',\n",
       " 'SenatePersonId',\n",
       " 'SpeakerHouseOfCommons',\n",
       " 'SpeakerProTempore',\n",
       " 'SpeakerSenate',\n",
       " 'StraightDisplayName',\n",
       " 'Titles',\n",
       " 'TypeOfParliamentarianEn',\n",
       " 'TypeOfParliamentarianFr',\n",
       " 'UsedFirstName',\n",
       " 'WebLinks',\n",
       " 'WhipEn',\n",
       " 'WhipFr',\n",
       " 'YearsOfServiceSegments',\n",
       " '_id']"
      ]
     },
     "execution_count": 100,
     "metadata": {},
     "output_type": "execute_result"
    }
   ],
   "source": [
    "person = people[0]\n",
    "sorted(person.keys())"
   ]
  },
  {
   "cell_type": "code",
   "execution_count": 101,
   "metadata": {},
   "outputs": [
    {
     "data": {
      "text/plain": [
       "['Professions',\n",
       " 'FamilyRelations',\n",
       " 'Pictures',\n",
       " 'Roles',\n",
       " 'Death',\n",
       " 'YearsOfServiceSegments']"
      ]
     },
     "execution_count": 101,
     "metadata": {},
     "output_type": "execute_result"
    }
   ],
   "source": [
    "[k for k, v in person.items() if type(v) in [list, dict]]"
   ]
  },
  {
   "cell_type": "code",
   "execution_count": null,
   "metadata": {},
   "outputs": [],
   "source": [
    "person_cols = ['PersonId', 'LastName', 'UsedFirstName']\n",
    "rows = []\n",
    "for rec in person_recs():\n",
    "    person = rec['Person']\n",
    "    person_props = {col: person[col] for col in person_cols}\n",
    "    for role in person['Roles']:\n",
    "        role_props = {k: v for k, v in role.items() if not (k.endswith('Fr') or type(v) in [list, dict])}\n",
    "        row = {**person_props, **role_props}\n",
    "        rows.append(row)\n",
    "len(rows)"
   ]
  },
  {
   "cell_type": "code",
   "execution_count": null,
   "metadata": {},
   "outputs": [],
   "source": [
    "sorted(rec.keys())"
   ]
  },
  {
   "cell_type": "code",
   "execution_count": null,
   "metadata": {},
   "outputs": [],
   "source": [
    "sorted(rec['Person'].keys())"
   ]
  },
  {
   "cell_type": "code",
   "execution_count": null,
   "metadata": {},
   "outputs": [],
   "source": [
    "rows[0]"
   ]
  },
  {
   "cell_type": "code",
   "execution_count": null,
   "metadata": {},
   "outputs": [],
   "source": [
    "sorted(rows[0].keys())"
   ]
  },
  {
   "cell_type": "code",
   "execution_count": 103,
   "metadata": {},
   "outputs": [
    {
     "data": {
      "text/plain": [
       "PersonId                  202575\n",
       "LastName                  202575\n",
       "UsedFirstName             202575\n",
       "PersonRoleId              202575\n",
       "StartDate                 200744\n",
       "StartDateIsApproximate    202575\n",
       "EndDate                   198138\n",
       "EndDateIsApproximate      202575\n",
       "EndReasonEn                  230\n",
       "EndReasonTypeEn             1685\n",
       "SourceOfInformationEn       1139\n",
       "IsActing                  202575\n",
       "ActingTextEn                  11\n",
       "HasCrossedTheFloor        202575\n",
       "OrganizationId            202575\n",
       "OrganizationLongEn        202575\n",
       "OrganizationShortEn       196184\n",
       "OrganizationAcronymEn     190713\n",
       "OrganizationTypeId        202575\n",
       "OrganizationTypeEn        202547\n",
       "OrganizationProvinceEn      6958\n",
       "OrganizationHasProfile    202575\n",
       "IsSenatorialDivision      202575\n",
       "ToBeStyledAsEn            180918\n",
       "GroupId                   202575\n",
       "Source                      8535\n",
       "PortFolioEn                 7426\n",
       "GroupingTitleEn            31193\n",
       "GroupingOrder             202575\n",
       "ParliamentStart            25827\n",
       "ParliamentEnd              25827\n",
       "ParliamentNumber          202575\n",
       "PartyOrganizationId       202575\n",
       "PartyEn                   183928\n",
       "PartyStartDate            183928\n",
       "PartyEndDate              177201\n",
       "IsMP                      202575\n",
       "IsSenator                 202575\n",
       "NotesEn                     3045\n",
       "IsCurrent                 202575\n",
       "RoleId                    202575\n",
       "NameEn                    202573\n",
       "Ordinal                   176991\n",
       "dtype: int64"
      ]
     },
     "execution_count": 103,
     "metadata": {},
     "output_type": "execute_result"
    }
   ],
   "source": [
    "df = pd.DataFrame(rows)\n",
    "cleanup(df)\n",
    "df.count()"
   ]
  },
  {
   "cell_type": "code",
   "execution_count": 128,
   "metadata": {},
   "outputs": [
    {
     "data": {
      "text/html": [
       "<div>\n",
       "<style scoped>\n",
       "    .dataframe tbody tr th:only-of-type {\n",
       "        vertical-align: middle;\n",
       "    }\n",
       "\n",
       "    .dataframe tbody tr th {\n",
       "        vertical-align: top;\n",
       "    }\n",
       "\n",
       "    .dataframe thead th {\n",
       "        text-align: right;\n",
       "    }\n",
       "</style>\n",
       "<table border=\"1\" class=\"dataframe\">\n",
       "  <thead>\n",
       "    <tr style=\"text-align: right;\">\n",
       "      <th></th>\n",
       "      <th>PersonId</th>\n",
       "      <th>LastName</th>\n",
       "      <th>UsedFirstName</th>\n",
       "      <th>PersonRoleId</th>\n",
       "      <th>StartDate</th>\n",
       "      <th>StartDateIsApproximate</th>\n",
       "      <th>EndDate</th>\n",
       "      <th>EndDateIsApproximate</th>\n",
       "      <th>EndReasonEn</th>\n",
       "      <th>EndReasonTypeEn</th>\n",
       "      <th>...</th>\n",
       "      <th>PartyEn</th>\n",
       "      <th>PartyStartDate</th>\n",
       "      <th>PartyEndDate</th>\n",
       "      <th>IsMP</th>\n",
       "      <th>IsSenator</th>\n",
       "      <th>NotesEn</th>\n",
       "      <th>IsCurrent</th>\n",
       "      <th>RoleId</th>\n",
       "      <th>NameEn</th>\n",
       "      <th>Ordinal</th>\n",
       "    </tr>\n",
       "  </thead>\n",
       "  <tbody>\n",
       "    <tr>\n",
       "      <th>1219</th>\n",
       "      <td>958</td>\n",
       "      <td>Aikins</td>\n",
       "      <td>James Albert Manning</td>\n",
       "      <td>30400</td>\n",
       "      <td>1911-11-15</td>\n",
       "      <td>False</td>\n",
       "      <td>1915-04-15</td>\n",
       "      <td>False</td>\n",
       "      <td>None</td>\n",
       "      <td>None</td>\n",
       "      <td>...</td>\n",
       "      <td>None</td>\n",
       "      <td>None</td>\n",
       "      <td>None</td>\n",
       "      <td>False</td>\n",
       "      <td>False</td>\n",
       "      <td>None</td>\n",
       "      <td>False</td>\n",
       "      <td>2998</td>\n",
       "      <td>Caucus Member</td>\n",
       "      <td>NaN</td>\n",
       "    </tr>\n",
       "    <tr>\n",
       "      <th>9011</th>\n",
       "      <td>15678</td>\n",
       "      <td>Baker</td>\n",
       "      <td>George</td>\n",
       "      <td>267854</td>\n",
       "      <td>1989-04-03</td>\n",
       "      <td>False</td>\n",
       "      <td>1991-05-12</td>\n",
       "      <td>False</td>\n",
       "      <td>None</td>\n",
       "      <td>None</td>\n",
       "      <td>...</td>\n",
       "      <td>Liberal Party of Canada</td>\n",
       "      <td>1972-10-30</td>\n",
       "      <td>2017-09-03</td>\n",
       "      <td>False</td>\n",
       "      <td>False</td>\n",
       "      <td>None</td>\n",
       "      <td>False</td>\n",
       "      <td>226</td>\n",
       "      <td>Member</td>\n",
       "      <td>300.0</td>\n",
       "    </tr>\n",
       "    <tr>\n",
       "      <th>17458</th>\n",
       "      <td>12709</td>\n",
       "      <td>Blain</td>\n",
       "      <td>Richard</td>\n",
       "      <td>226686</td>\n",
       "      <td>1903-03-12</td>\n",
       "      <td>False</td>\n",
       "      <td>1903-10-24</td>\n",
       "      <td>False</td>\n",
       "      <td>None</td>\n",
       "      <td>None</td>\n",
       "      <td>...</td>\n",
       "      <td>Conservative (1867-1942)</td>\n",
       "      <td>1900-11-07</td>\n",
       "      <td>1926-11-27</td>\n",
       "      <td>False</td>\n",
       "      <td>False</td>\n",
       "      <td>None</td>\n",
       "      <td>False</td>\n",
       "      <td>226</td>\n",
       "      <td>Member</td>\n",
       "      <td>300.0</td>\n",
       "    </tr>\n",
       "    <tr>\n",
       "      <th>19360</th>\n",
       "      <td>14748</td>\n",
       "      <td>Borden</td>\n",
       "      <td>Frederick William</td>\n",
       "      <td>231209</td>\n",
       "      <td>1896-08-19</td>\n",
       "      <td>False</td>\n",
       "      <td>1896-10-05</td>\n",
       "      <td>False</td>\n",
       "      <td>None</td>\n",
       "      <td>None</td>\n",
       "      <td>...</td>\n",
       "      <td>Liberal Party of Canada</td>\n",
       "      <td>1896-07-30</td>\n",
       "      <td>1911-09-20</td>\n",
       "      <td>False</td>\n",
       "      <td>False</td>\n",
       "      <td>None</td>\n",
       "      <td>False</td>\n",
       "      <td>226</td>\n",
       "      <td>Member</td>\n",
       "      <td>300.0</td>\n",
       "    </tr>\n",
       "    <tr>\n",
       "      <th>26307</th>\n",
       "      <td>13311</td>\n",
       "      <td>Buchanan</td>\n",
       "      <td>William Ashbury</td>\n",
       "      <td>186153</td>\n",
       "      <td>1932-10-06</td>\n",
       "      <td>False</td>\n",
       "      <td>1933-05-27</td>\n",
       "      <td>False</td>\n",
       "      <td>None</td>\n",
       "      <td>None</td>\n",
       "      <td>...</td>\n",
       "      <td>Liberal Party of Canada</td>\n",
       "      <td>1925-09-05</td>\n",
       "      <td>1954-07-11</td>\n",
       "      <td>False</td>\n",
       "      <td>False</td>\n",
       "      <td>None</td>\n",
       "      <td>False</td>\n",
       "      <td>226</td>\n",
       "      <td>Member</td>\n",
       "      <td>300.0</td>\n",
       "    </tr>\n",
       "    <tr>\n",
       "      <th>33078</th>\n",
       "      <td>6895</td>\n",
       "      <td>Carter</td>\n",
       "      <td>Chesley William</td>\n",
       "      <td>140835</td>\n",
       "      <td>1966-01-18</td>\n",
       "      <td>False</td>\n",
       "      <td>1967-05-08</td>\n",
       "      <td>False</td>\n",
       "      <td>None</td>\n",
       "      <td>None</td>\n",
       "      <td>...</td>\n",
       "      <td>Liberal Party of Canada</td>\n",
       "      <td>1949-06-27</td>\n",
       "      <td>1977-07-28</td>\n",
       "      <td>False</td>\n",
       "      <td>False</td>\n",
       "      <td>None</td>\n",
       "      <td>False</td>\n",
       "      <td>226</td>\n",
       "      <td>Member</td>\n",
       "      <td>300.0</td>\n",
       "    </tr>\n",
       "    <tr>\n",
       "      <th>42605</th>\n",
       "      <td>4154</td>\n",
       "      <td>Copp</td>\n",
       "      <td>Arthur Bliss</td>\n",
       "      <td>211731</td>\n",
       "      <td>1915-02-04</td>\n",
       "      <td>False</td>\n",
       "      <td>1915-04-15</td>\n",
       "      <td>False</td>\n",
       "      <td>None</td>\n",
       "      <td>None</td>\n",
       "      <td>...</td>\n",
       "      <td>Liberal Party of Canada</td>\n",
       "      <td>1915-02-01</td>\n",
       "      <td>1917-12-16</td>\n",
       "      <td>False</td>\n",
       "      <td>False</td>\n",
       "      <td>None</td>\n",
       "      <td>False</td>\n",
       "      <td>226</td>\n",
       "      <td>Member</td>\n",
       "      <td>300.0</td>\n",
       "    </tr>\n",
       "    <tr>\n",
       "      <th>50679</th>\n",
       "      <td>6281</td>\n",
       "      <td>Denis</td>\n",
       "      <td>Azellus</td>\n",
       "      <td>281462</td>\n",
       "      <td>1976-10-12</td>\n",
       "      <td>False</td>\n",
       "      <td>1977-10-17</td>\n",
       "      <td>False</td>\n",
       "      <td>None</td>\n",
       "      <td>None</td>\n",
       "      <td>...</td>\n",
       "      <td>Liberal Party of Canada</td>\n",
       "      <td>1935-10-14</td>\n",
       "      <td>1991-09-04</td>\n",
       "      <td>False</td>\n",
       "      <td>False</td>\n",
       "      <td>None</td>\n",
       "      <td>False</td>\n",
       "      <td>226</td>\n",
       "      <td>Member</td>\n",
       "      <td>300.0</td>\n",
       "    </tr>\n",
       "    <tr>\n",
       "      <th>61317</th>\n",
       "      <td>12772</td>\n",
       "      <td>Fairweather</td>\n",
       "      <td>Robert Gordon Lee</td>\n",
       "      <td>19061</td>\n",
       "      <td>1974-02-27</td>\n",
       "      <td>False</td>\n",
       "      <td>1974-05-09</td>\n",
       "      <td>False</td>\n",
       "      <td>None</td>\n",
       "      <td>None</td>\n",
       "      <td>...</td>\n",
       "      <td>Progressive Conservative Party</td>\n",
       "      <td>1962-06-18</td>\n",
       "      <td>1977-08-31</td>\n",
       "      <td>False</td>\n",
       "      <td>False</td>\n",
       "      <td>None</td>\n",
       "      <td>False</td>\n",
       "      <td>226</td>\n",
       "      <td>Member</td>\n",
       "      <td>300.0</td>\n",
       "    </tr>\n",
       "    <tr>\n",
       "      <th>78364</th>\n",
       "      <td>11908</td>\n",
       "      <td>Griesbach</td>\n",
       "      <td>William Antrobus</td>\n",
       "      <td>183562</td>\n",
       "      <td>1943-01-28</td>\n",
       "      <td>False</td>\n",
       "      <td>1944-01-26</td>\n",
       "      <td>False</td>\n",
       "      <td>None</td>\n",
       "      <td>None</td>\n",
       "      <td>...</td>\n",
       "      <td>Conservative (1867-1942)</td>\n",
       "      <td>1921-09-15</td>\n",
       "      <td>1945-01-21</td>\n",
       "      <td>False</td>\n",
       "      <td>False</td>\n",
       "      <td>None</td>\n",
       "      <td>False</td>\n",
       "      <td>226</td>\n",
       "      <td>Member</td>\n",
       "      <td>300.0</td>\n",
       "    </tr>\n",
       "    <tr>\n",
       "      <th>87413</th>\n",
       "      <td>11930</td>\n",
       "      <td>Hoey</td>\n",
       "      <td>Robert Alexander</td>\n",
       "      <td>65595</td>\n",
       "      <td>1921-12-06</td>\n",
       "      <td>False</td>\n",
       "      <td>1925-10-28</td>\n",
       "      <td>False</td>\n",
       "      <td>None</td>\n",
       "      <td>None</td>\n",
       "      <td>...</td>\n",
       "      <td>Progressive</td>\n",
       "      <td>1921-12-06</td>\n",
       "      <td>1925-10-28</td>\n",
       "      <td>True</td>\n",
       "      <td>False</td>\n",
       "      <td>None</td>\n",
       "      <td>False</td>\n",
       "      <td>719</td>\n",
       "      <td>Constituency Member</td>\n",
       "      <td>240.0</td>\n",
       "    </tr>\n",
       "    <tr>\n",
       "      <th>95401</th>\n",
       "      <td>9614</td>\n",
       "      <td>Jones</td>\n",
       "      <td>Francis</td>\n",
       "      <td>64499</td>\n",
       "      <td>1867-09-20</td>\n",
       "      <td>False</td>\n",
       "      <td>1874-01-21</td>\n",
       "      <td>False</td>\n",
       "      <td>None</td>\n",
       "      <td>None</td>\n",
       "      <td>...</td>\n",
       "      <td>Conservative (1867-1942)</td>\n",
       "      <td>1867-09-20</td>\n",
       "      <td>1874-01-21</td>\n",
       "      <td>False</td>\n",
       "      <td>False</td>\n",
       "      <td>None</td>\n",
       "      <td>False</td>\n",
       "      <td>722</td>\n",
       "      <td>Party Member</td>\n",
       "      <td>NaN</td>\n",
       "    </tr>\n",
       "    <tr>\n",
       "      <th>102836</th>\n",
       "      <td>14430</td>\n",
       "      <td>Lalonde</td>\n",
       "      <td>Francine</td>\n",
       "      <td>300956</td>\n",
       "      <td>2002-09-30</td>\n",
       "      <td>False</td>\n",
       "      <td>2003-11-12</td>\n",
       "      <td>False</td>\n",
       "      <td>None</td>\n",
       "      <td>None</td>\n",
       "      <td>...</td>\n",
       "      <td>Bloc Québécois</td>\n",
       "      <td>1993-10-25</td>\n",
       "      <td>2011-05-01</td>\n",
       "      <td>False</td>\n",
       "      <td>False</td>\n",
       "      <td>None</td>\n",
       "      <td>False</td>\n",
       "      <td>226</td>\n",
       "      <td>Member</td>\n",
       "      <td>300.0</td>\n",
       "    </tr>\n",
       "    <tr>\n",
       "      <th>109655</th>\n",
       "      <td>17089</td>\n",
       "      <td>Livingston</td>\n",
       "      <td>James</td>\n",
       "      <td>89909</td>\n",
       "      <td>1883-02-08</td>\n",
       "      <td>False</td>\n",
       "      <td>1900-10-09</td>\n",
       "      <td>False</td>\n",
       "      <td>None</td>\n",
       "      <td>None</td>\n",
       "      <td>...</td>\n",
       "      <td>None</td>\n",
       "      <td>None</td>\n",
       "      <td>None</td>\n",
       "      <td>False</td>\n",
       "      <td>False</td>\n",
       "      <td>None</td>\n",
       "      <td>False</td>\n",
       "      <td>2998</td>\n",
       "      <td>Caucus Member</td>\n",
       "      <td>NaN</td>\n",
       "    </tr>\n",
       "    <tr>\n",
       "      <th>114362</th>\n",
       "      <td>10633</td>\n",
       "      <td>MacKinnon</td>\n",
       "      <td>George Ernest Lawson</td>\n",
       "      <td>97494</td>\n",
       "      <td>1940-03-26</td>\n",
       "      <td>False</td>\n",
       "      <td>1945-06-10</td>\n",
       "      <td>False</td>\n",
       "      <td>None</td>\n",
       "      <td>None</td>\n",
       "      <td>...</td>\n",
       "      <td>National Government</td>\n",
       "      <td>1940-03-26</td>\n",
       "      <td>1945-06-10</td>\n",
       "      <td>False</td>\n",
       "      <td>False</td>\n",
       "      <td>None</td>\n",
       "      <td>False</td>\n",
       "      <td>722</td>\n",
       "      <td>Party Member</td>\n",
       "      <td>NaN</td>\n",
       "    </tr>\n",
       "    <tr>\n",
       "      <th>120255</th>\n",
       "      <td>2079</td>\n",
       "      <td>Marchand</td>\n",
       "      <td>Len</td>\n",
       "      <td>263859</td>\n",
       "      <td>1968-09-12</td>\n",
       "      <td>False</td>\n",
       "      <td>1969-10-22</td>\n",
       "      <td>False</td>\n",
       "      <td>None</td>\n",
       "      <td>None</td>\n",
       "      <td>...</td>\n",
       "      <td>Liberal Party of Canada</td>\n",
       "      <td>1968-06-25</td>\n",
       "      <td>1979-05-21</td>\n",
       "      <td>False</td>\n",
       "      <td>False</td>\n",
       "      <td>None</td>\n",
       "      <td>False</td>\n",
       "      <td>226</td>\n",
       "      <td>Member</td>\n",
       "      <td>300.0</td>\n",
       "    </tr>\n",
       "    <tr>\n",
       "      <th>126284</th>\n",
       "      <td>9910</td>\n",
       "      <td>McDermand</td>\n",
       "      <td>Sydney Smith</td>\n",
       "      <td>29875</td>\n",
       "      <td>1920-11-22</td>\n",
       "      <td>False</td>\n",
       "      <td>1921-10-04</td>\n",
       "      <td>False</td>\n",
       "      <td>None</td>\n",
       "      <td>None</td>\n",
       "      <td>...</td>\n",
       "      <td>None</td>\n",
       "      <td>None</td>\n",
       "      <td>None</td>\n",
       "      <td>False</td>\n",
       "      <td>False</td>\n",
       "      <td>None</td>\n",
       "      <td>False</td>\n",
       "      <td>2998</td>\n",
       "      <td>Caucus Member</td>\n",
       "      <td>NaN</td>\n",
       "    </tr>\n",
       "    <tr>\n",
       "      <th>136911</th>\n",
       "      <td>5531</td>\n",
       "      <td>Mitchell</td>\n",
       "      <td>Grant</td>\n",
       "      <td>213217</td>\n",
       "      <td>2012-05-10</td>\n",
       "      <td>False</td>\n",
       "      <td>2012-05-10</td>\n",
       "      <td>False</td>\n",
       "      <td>None</td>\n",
       "      <td>None</td>\n",
       "      <td>...</td>\n",
       "      <td>Liberal Party of Canada</td>\n",
       "      <td>2005-03-24</td>\n",
       "      <td>2016-05-01</td>\n",
       "      <td>False</td>\n",
       "      <td>False</td>\n",
       "      <td>None</td>\n",
       "      <td>False</td>\n",
       "      <td>226</td>\n",
       "      <td>Member</td>\n",
       "      <td>300.0</td>\n",
       "    </tr>\n",
       "    <tr>\n",
       "      <th>138099</th>\n",
       "      <td>13692</td>\n",
       "      <td>Monk</td>\n",
       "      <td>Frederick Debartzch</td>\n",
       "      <td>230858</td>\n",
       "      <td>1896-08-19</td>\n",
       "      <td>False</td>\n",
       "      <td>1896-10-05</td>\n",
       "      <td>False</td>\n",
       "      <td>None</td>\n",
       "      <td>None</td>\n",
       "      <td>...</td>\n",
       "      <td>Conservative (1867-1942)</td>\n",
       "      <td>1896-06-23</td>\n",
       "      <td>1911-10-09</td>\n",
       "      <td>False</td>\n",
       "      <td>False</td>\n",
       "      <td>None</td>\n",
       "      <td>False</td>\n",
       "      <td>226</td>\n",
       "      <td>Member</td>\n",
       "      <td>300.0</td>\n",
       "    </tr>\n",
       "    <tr>\n",
       "      <th>140015</th>\n",
       "      <td>4071</td>\n",
       "      <td>Muir</td>\n",
       "      <td>Robert</td>\n",
       "      <td>17685</td>\n",
       "      <td>1980-04-14</td>\n",
       "      <td>False</td>\n",
       "      <td>1983-11-30</td>\n",
       "      <td>False</td>\n",
       "      <td>None</td>\n",
       "      <td>None</td>\n",
       "      <td>...</td>\n",
       "      <td>Progressive Conservative Party</td>\n",
       "      <td>1957-06-10</td>\n",
       "      <td>1994-11-10</td>\n",
       "      <td>False</td>\n",
       "      <td>False</td>\n",
       "      <td>None</td>\n",
       "      <td>False</td>\n",
       "      <td>226</td>\n",
       "      <td>Member</td>\n",
       "      <td>300.0</td>\n",
       "    </tr>\n",
       "    <tr>\n",
       "      <th>140815</th>\n",
       "      <td>12987</td>\n",
       "      <td>Murdock</td>\n",
       "      <td>James</td>\n",
       "      <td>183176</td>\n",
       "      <td>1942-01-22</td>\n",
       "      <td>False</td>\n",
       "      <td>1943-01-27</td>\n",
       "      <td>False</td>\n",
       "      <td>None</td>\n",
       "      <td>None</td>\n",
       "      <td>...</td>\n",
       "      <td>Liberal Party of Canada</td>\n",
       "      <td>1930-03-20</td>\n",
       "      <td>1949-05-15</td>\n",
       "      <td>False</td>\n",
       "      <td>False</td>\n",
       "      <td>None</td>\n",
       "      <td>False</td>\n",
       "      <td>226</td>\n",
       "      <td>Member</td>\n",
       "      <td>300.0</td>\n",
       "    </tr>\n",
       "    <tr>\n",
       "      <th>147619</th>\n",
       "      <td>15691</td>\n",
       "      <td>Pacetti</td>\n",
       "      <td>Massimo</td>\n",
       "      <td>64929</td>\n",
       "      <td>2006-02-23</td>\n",
       "      <td>False</td>\n",
       "      <td>2007-01-17</td>\n",
       "      <td>False</td>\n",
       "      <td>None</td>\n",
       "      <td>None</td>\n",
       "      <td>...</td>\n",
       "      <td>None</td>\n",
       "      <td>None</td>\n",
       "      <td>None</td>\n",
       "      <td>False</td>\n",
       "      <td>False</td>\n",
       "      <td>None</td>\n",
       "      <td>False</td>\n",
       "      <td>1409</td>\n",
       "      <td>Assistant Critic</td>\n",
       "      <td>5.0</td>\n",
       "    </tr>\n",
       "    <tr>\n",
       "      <th>186057</th>\n",
       "      <td>2847</td>\n",
       "      <td>Thompson</td>\n",
       "      <td>Joshua Spencer</td>\n",
       "      <td>242447</td>\n",
       "      <td>1875-02-04</td>\n",
       "      <td>False</td>\n",
       "      <td>1875-04-08</td>\n",
       "      <td>False</td>\n",
       "      <td>None</td>\n",
       "      <td>None</td>\n",
       "      <td>...</td>\n",
       "      <td>Liberal-Conservative</td>\n",
       "      <td>1871-12-19</td>\n",
       "      <td>1880-12-20</td>\n",
       "      <td>False</td>\n",
       "      <td>False</td>\n",
       "      <td>None</td>\n",
       "      <td>False</td>\n",
       "      <td>226</td>\n",
       "      <td>Member</td>\n",
       "      <td>300.0</td>\n",
       "    </tr>\n",
       "    <tr>\n",
       "      <th>192234</th>\n",
       "      <td>9362</td>\n",
       "      <td>Vien</td>\n",
       "      <td>Thomas</td>\n",
       "      <td>161192</td>\n",
       "      <td>1950-02-16</td>\n",
       "      <td>False</td>\n",
       "      <td>1950-06-30</td>\n",
       "      <td>False</td>\n",
       "      <td>None</td>\n",
       "      <td>None</td>\n",
       "      <td>...</td>\n",
       "      <td>Liberal Party of Canada</td>\n",
       "      <td>1935-10-14</td>\n",
       "      <td>1968-04-01</td>\n",
       "      <td>False</td>\n",
       "      <td>False</td>\n",
       "      <td>None</td>\n",
       "      <td>False</td>\n",
       "      <td>226</td>\n",
       "      <td>Member</td>\n",
       "      <td>300.0</td>\n",
       "    </tr>\n",
       "    <tr>\n",
       "      <th>200083</th>\n",
       "      <td>13654</td>\n",
       "      <td>Wright</td>\n",
       "      <td>Frederick William</td>\n",
       "      <td>81364</td>\n",
       "      <td>1980-04-14</td>\n",
       "      <td>False</td>\n",
       "      <td>1983-11-30</td>\n",
       "      <td>False</td>\n",
       "      <td>None</td>\n",
       "      <td>None</td>\n",
       "      <td>...</td>\n",
       "      <td>Progressive Conservative Party</td>\n",
       "      <td>1980-02-18</td>\n",
       "      <td>1984-09-03</td>\n",
       "      <td>False</td>\n",
       "      <td>False</td>\n",
       "      <td>None</td>\n",
       "      <td>False</td>\n",
       "      <td>226</td>\n",
       "      <td>Member</td>\n",
       "      <td>300.0</td>\n",
       "    </tr>\n",
       "  </tbody>\n",
       "</table>\n",
       "<p>25 rows × 43 columns</p>\n",
       "</div>"
      ],
      "text/plain": [
       "        PersonId     LastName         UsedFirstName  PersonRoleId   StartDate  \\\n",
       "1219         958       Aikins  James Albert Manning         30400  1911-11-15   \n",
       "9011       15678        Baker                George        267854  1989-04-03   \n",
       "17458      12709        Blain               Richard        226686  1903-03-12   \n",
       "19360      14748       Borden     Frederick William        231209  1896-08-19   \n",
       "26307      13311     Buchanan       William Ashbury        186153  1932-10-06   \n",
       "33078       6895       Carter       Chesley William        140835  1966-01-18   \n",
       "42605       4154         Copp          Arthur Bliss        211731  1915-02-04   \n",
       "50679       6281        Denis               Azellus        281462  1976-10-12   \n",
       "61317      12772  Fairweather     Robert Gordon Lee         19061  1974-02-27   \n",
       "78364      11908    Griesbach      William Antrobus        183562  1943-01-28   \n",
       "87413      11930         Hoey      Robert Alexander         65595  1921-12-06   \n",
       "95401       9614        Jones               Francis         64499  1867-09-20   \n",
       "102836     14430      Lalonde              Francine        300956  2002-09-30   \n",
       "109655     17089   Livingston                 James         89909  1883-02-08   \n",
       "114362     10633    MacKinnon  George Ernest Lawson         97494  1940-03-26   \n",
       "120255      2079     Marchand                   Len        263859  1968-09-12   \n",
       "126284      9910    McDermand          Sydney Smith         29875  1920-11-22   \n",
       "136911      5531     Mitchell                 Grant        213217  2012-05-10   \n",
       "138099     13692         Monk   Frederick Debartzch        230858  1896-08-19   \n",
       "140015      4071         Muir                Robert         17685  1980-04-14   \n",
       "140815     12987      Murdock                 James        183176  1942-01-22   \n",
       "147619     15691      Pacetti               Massimo         64929  2006-02-23   \n",
       "186057      2847     Thompson        Joshua Spencer        242447  1875-02-04   \n",
       "192234      9362         Vien                Thomas        161192  1950-02-16   \n",
       "200083     13654       Wright     Frederick William         81364  1980-04-14   \n",
       "\n",
       "        StartDateIsApproximate     EndDate  EndDateIsApproximate EndReasonEn  \\\n",
       "1219                     False  1915-04-15                 False        None   \n",
       "9011                     False  1991-05-12                 False        None   \n",
       "17458                    False  1903-10-24                 False        None   \n",
       "19360                    False  1896-10-05                 False        None   \n",
       "26307                    False  1933-05-27                 False        None   \n",
       "33078                    False  1967-05-08                 False        None   \n",
       "42605                    False  1915-04-15                 False        None   \n",
       "50679                    False  1977-10-17                 False        None   \n",
       "61317                    False  1974-05-09                 False        None   \n",
       "78364                    False  1944-01-26                 False        None   \n",
       "87413                    False  1925-10-28                 False        None   \n",
       "95401                    False  1874-01-21                 False        None   \n",
       "102836                   False  2003-11-12                 False        None   \n",
       "109655                   False  1900-10-09                 False        None   \n",
       "114362                   False  1945-06-10                 False        None   \n",
       "120255                   False  1969-10-22                 False        None   \n",
       "126284                   False  1921-10-04                 False        None   \n",
       "136911                   False  2012-05-10                 False        None   \n",
       "138099                   False  1896-10-05                 False        None   \n",
       "140015                   False  1983-11-30                 False        None   \n",
       "140815                   False  1943-01-27                 False        None   \n",
       "147619                   False  2007-01-17                 False        None   \n",
       "186057                   False  1875-04-08                 False        None   \n",
       "192234                   False  1950-06-30                 False        None   \n",
       "200083                   False  1983-11-30                 False        None   \n",
       "\n",
       "       EndReasonTypeEn  ...                         PartyEn  PartyStartDate  \\\n",
       "1219              None  ...                            None            None   \n",
       "9011              None  ...         Liberal Party of Canada      1972-10-30   \n",
       "17458             None  ...        Conservative (1867-1942)      1900-11-07   \n",
       "19360             None  ...         Liberal Party of Canada      1896-07-30   \n",
       "26307             None  ...         Liberal Party of Canada      1925-09-05   \n",
       "33078             None  ...         Liberal Party of Canada      1949-06-27   \n",
       "42605             None  ...         Liberal Party of Canada      1915-02-01   \n",
       "50679             None  ...         Liberal Party of Canada      1935-10-14   \n",
       "61317             None  ...  Progressive Conservative Party      1962-06-18   \n",
       "78364             None  ...        Conservative (1867-1942)      1921-09-15   \n",
       "87413             None  ...                     Progressive      1921-12-06   \n",
       "95401             None  ...        Conservative (1867-1942)      1867-09-20   \n",
       "102836            None  ...                  Bloc Québécois      1993-10-25   \n",
       "109655            None  ...                            None            None   \n",
       "114362            None  ...             National Government      1940-03-26   \n",
       "120255            None  ...         Liberal Party of Canada      1968-06-25   \n",
       "126284            None  ...                            None            None   \n",
       "136911            None  ...         Liberal Party of Canada      2005-03-24   \n",
       "138099            None  ...        Conservative (1867-1942)      1896-06-23   \n",
       "140015            None  ...  Progressive Conservative Party      1957-06-10   \n",
       "140815            None  ...         Liberal Party of Canada      1930-03-20   \n",
       "147619            None  ...                            None            None   \n",
       "186057            None  ...            Liberal-Conservative      1871-12-19   \n",
       "192234            None  ...         Liberal Party of Canada      1935-10-14   \n",
       "200083            None  ...  Progressive Conservative Party      1980-02-18   \n",
       "\n",
       "       PartyEndDate   IsMP  IsSenator NotesEn IsCurrent RoleId  \\\n",
       "1219           None  False      False    None     False   2998   \n",
       "9011     2017-09-03  False      False    None     False    226   \n",
       "17458    1926-11-27  False      False    None     False    226   \n",
       "19360    1911-09-20  False      False    None     False    226   \n",
       "26307    1954-07-11  False      False    None     False    226   \n",
       "33078    1977-07-28  False      False    None     False    226   \n",
       "42605    1917-12-16  False      False    None     False    226   \n",
       "50679    1991-09-04  False      False    None     False    226   \n",
       "61317    1977-08-31  False      False    None     False    226   \n",
       "78364    1945-01-21  False      False    None     False    226   \n",
       "87413    1925-10-28   True      False    None     False    719   \n",
       "95401    1874-01-21  False      False    None     False    722   \n",
       "102836   2011-05-01  False      False    None     False    226   \n",
       "109655         None  False      False    None     False   2998   \n",
       "114362   1945-06-10  False      False    None     False    722   \n",
       "120255   1979-05-21  False      False    None     False    226   \n",
       "126284         None  False      False    None     False   2998   \n",
       "136911   2016-05-01  False      False    None     False    226   \n",
       "138099   1911-10-09  False      False    None     False    226   \n",
       "140015   1994-11-10  False      False    None     False    226   \n",
       "140815   1949-05-15  False      False    None     False    226   \n",
       "147619         None  False      False    None     False   1409   \n",
       "186057   1880-12-20  False      False    None     False    226   \n",
       "192234   1968-04-01  False      False    None     False    226   \n",
       "200083   1984-09-03  False      False    None     False    226   \n",
       "\n",
       "                     NameEn Ordinal  \n",
       "1219          Caucus Member     NaN  \n",
       "9011                 Member   300.0  \n",
       "17458                Member   300.0  \n",
       "19360                Member   300.0  \n",
       "26307                Member   300.0  \n",
       "33078                Member   300.0  \n",
       "42605                Member   300.0  \n",
       "50679                Member   300.0  \n",
       "61317                Member   300.0  \n",
       "78364                Member   300.0  \n",
       "87413   Constituency Member   240.0  \n",
       "95401          Party Member     NaN  \n",
       "102836               Member   300.0  \n",
       "109655        Caucus Member     NaN  \n",
       "114362         Party Member     NaN  \n",
       "120255               Member   300.0  \n",
       "126284        Caucus Member     NaN  \n",
       "136911               Member   300.0  \n",
       "138099               Member   300.0  \n",
       "140015               Member   300.0  \n",
       "140815               Member   300.0  \n",
       "147619     Assistant Critic     5.0  \n",
       "186057               Member   300.0  \n",
       "192234               Member   300.0  \n",
       "200083               Member   300.0  \n",
       "\n",
       "[25 rows x 43 columns]"
      ]
     },
     "execution_count": 128,
     "metadata": {},
     "output_type": "execute_result"
    }
   ],
   "source": [
    "df.sample(25).sort_values(['LastName', 'UsedFirstName', 'StartDate'])"
   ]
  },
  {
   "cell_type": "code",
   "execution_count": 120,
   "metadata": {},
   "outputs": [],
   "source": [
    "filename = os.path.join(people_dir, 'roles_with_provincial.csv')\n",
    "df.to_csv(filename, index=False, encoding='utf8')"
   ]
  },
  {
   "cell_type": "code",
   "execution_count": 121,
   "metadata": {},
   "outputs": [
    {
     "name": "stdout",
     "output_type": "stream",
     "text": [
      "  202594 2361918 58958014 ../data/people/roles_with_provincial.csv\r\n"
     ]
    }
   ],
   "source": [
    "!wc $filename"
   ]
  },
  {
   "cell_type": "code",
   "execution_count": 123,
   "metadata": {},
   "outputs": [
    {
     "name": "stdout",
     "output_type": "stream",
     "text": [
      "rm: ../data/people/roles_with_provincial.csv.zip: No such file or directory\n",
      "  adding: ../data/people/roles_with_provincial.csv (deflated 92%)\n"
     ]
    }
   ],
   "source": [
    "zip_filename = filename + '.zip'\n",
    "!rm $zip_filename\n",
    "!zip $zip_filename $filename"
   ]
  },
  {
   "cell_type": "code",
   "execution_count": 124,
   "metadata": {},
   "outputs": [
    {
     "name": "stdout",
     "output_type": "stream",
     "text": [
      "^C\r\n"
     ]
    }
   ],
   "source": [
    "!wc $zipfilename"
   ]
  },
  {
   "cell_type": "code",
   "execution_count": 126,
   "metadata": {},
   "outputs": [
    {
     "name": "stdout",
     "output_type": "stream",
     "text": [
      "-rw-r--r--  1 nedgar  staff  4930803  3 May 14:17 ../data/people/roles_with_provincial.csv.zip\r\n"
     ]
    }
   ],
   "source": [
    "!ls -al $zip_filename"
   ]
  },
  {
   "cell_type": "code",
   "execution_count": null,
   "metadata": {},
   "outputs": [],
   "source": []
  }
 ],
 "metadata": {
  "kernelspec": {
   "display_name": "parleh-uCbbmVrw",
   "language": "python",
   "name": "parleh-ucbbmvrw"
  },
  "language_info": {
   "codemirror_mode": {
    "name": "ipython",
    "version": 3
   },
   "file_extension": ".py",
   "mimetype": "text/x-python",
   "name": "python",
   "nbconvert_exporter": "python",
   "pygments_lexer": "ipython3",
   "version": "3.7.3"
  }
 },
 "nbformat": 4,
 "nbformat_minor": 2
}
