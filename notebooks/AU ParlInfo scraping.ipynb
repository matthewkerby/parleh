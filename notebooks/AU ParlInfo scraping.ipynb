{
 "cells": [
  {
   "cell_type": "code",
   "execution_count": 2,
   "id": "f0e242a3",
   "metadata": {},
   "outputs": [
    {
     "name": "stdout",
     "output_type": "stream",
     "text": [
      "pip 22.1.2 from /usr/local/lib/python3.9/site-packages/pip (python 3.9)\r\n"
     ]
    }
   ],
   "source": [
    "!pip --version"
   ]
  },
  {
   "cell_type": "code",
   "execution_count": 5,
   "id": "7000d724",
   "metadata": {},
   "outputs": [
    {
     "name": "stdout",
     "output_type": "stream",
     "text": [
      "Requirement already satisfied: scrapy in /usr/local/lib/python3.9/site-packages (2.6.1)\n",
      "Requirement already satisfied: itemloaders>=1.0.1 in /usr/local/lib/python3.9/site-packages (from scrapy) (1.0.4)\n",
      "Requirement already satisfied: pyOpenSSL>=16.2.0 in /usr/local/lib/python3.9/site-packages (from scrapy) (22.0.0)\n",
      "Requirement already satisfied: service-identity>=16.0.0 in /usr/local/lib/python3.9/site-packages (from scrapy) (21.1.0)\n",
      "Requirement already satisfied: parsel>=1.5.0 in /usr/local/lib/python3.9/site-packages (from scrapy) (1.6.0)\n",
      "Requirement already satisfied: cryptography>=2.0 in /usr/local/lib/python3.9/site-packages (from scrapy) (37.0.4)\n",
      "Requirement already satisfied: protego>=0.1.15 in /usr/local/lib/python3.9/site-packages (from scrapy) (0.2.1)\n",
      "Requirement already satisfied: tldextract in /usr/local/lib/python3.9/site-packages (from scrapy) (3.3.1)\n",
      "Requirement already satisfied: lxml>=3.5.0 in /usr/local/lib/python3.9/site-packages (from scrapy) (4.6.3)\n",
      "Requirement already satisfied: w3lib>=1.17.0 in /usr/local/lib/python3.9/site-packages (from scrapy) (1.22.0)\n",
      "Requirement already satisfied: setuptools in /usr/local/lib/python3.9/site-packages (from scrapy) (59.0.1)\n",
      "Requirement already satisfied: cssselect>=0.9.1 in /usr/local/lib/python3.9/site-packages (from scrapy) (1.1.0)\n",
      "Requirement already satisfied: queuelib>=1.4.2 in /usr/local/lib/python3.9/site-packages (from scrapy) (1.6.2)\n",
      "Requirement already satisfied: itemadapter>=0.1.0 in /usr/local/lib/python3.9/site-packages (from scrapy) (0.6.0)\n",
      "Requirement already satisfied: PyDispatcher>=2.0.5 in /usr/local/lib/python3.9/site-packages (from scrapy) (2.0.5)\n",
      "Requirement already satisfied: Twisted>=17.9.0 in /usr/local/lib/python3.9/site-packages (from scrapy) (22.4.0)\n",
      "Requirement already satisfied: zope.interface>=4.1.3 in /usr/local/lib/python3.9/site-packages (from scrapy) (5.4.0)\n",
      "Requirement already satisfied: cffi>=1.12 in /usr/local/lib/python3.9/site-packages (from cryptography>=2.0->scrapy) (1.15.0)\n",
      "Requirement already satisfied: jmespath>=0.9.5 in /usr/local/lib/python3.9/site-packages (from itemloaders>=1.0.1->scrapy) (1.0.1)\n",
      "Requirement already satisfied: six>=1.6.0 in /usr/local/lib/python3.9/site-packages (from parsel>=1.5.0->scrapy) (1.15.0)\n",
      "Requirement already satisfied: pyasn1 in /usr/local/lib/python3.9/site-packages (from service-identity>=16.0.0->scrapy) (0.4.8)\n",
      "Requirement already satisfied: pyasn1-modules in /usr/local/lib/python3.9/site-packages (from service-identity>=16.0.0->scrapy) (0.2.8)\n",
      "Requirement already satisfied: attrs>=19.1.0 in /usr/local/lib/python3.9/site-packages (from service-identity>=16.0.0->scrapy) (21.2.0)\n",
      "Requirement already satisfied: hyperlink>=17.1.1 in /usr/local/lib/python3.9/site-packages (from Twisted>=17.9.0->scrapy) (21.0.0)\n",
      "Requirement already satisfied: incremental>=21.3.0 in /usr/local/lib/python3.9/site-packages (from Twisted>=17.9.0->scrapy) (21.3.0)\n",
      "Requirement already satisfied: typing-extensions>=3.6.5 in /usr/local/lib/python3.9/site-packages (from Twisted>=17.9.0->scrapy) (3.10.0.2)\n",
      "Requirement already satisfied: Automat>=0.8.0 in /usr/local/lib/python3.9/site-packages (from Twisted>=17.9.0->scrapy) (20.2.0)\n",
      "Requirement already satisfied: constantly>=15.1 in /usr/local/lib/python3.9/site-packages (from Twisted>=17.9.0->scrapy) (15.1.0)\n",
      "Requirement already satisfied: filelock>=3.0.8 in /Users/nedgar/Library/Python/3.9/lib/python/site-packages (from tldextract->scrapy) (3.0.12)\n",
      "Requirement already satisfied: idna in /usr/local/lib/python3.9/site-packages (from tldextract->scrapy) (2.10)\n",
      "Requirement already satisfied: requests-file>=1.4 in /usr/local/lib/python3.9/site-packages (from tldextract->scrapy) (1.5.1)\n",
      "Requirement already satisfied: requests>=2.1.0 in /usr/local/lib/python3.9/site-packages (from tldextract->scrapy) (2.25.1)\n",
      "Requirement already satisfied: pycparser in /usr/local/lib/python3.9/site-packages (from cffi>=1.12->cryptography>=2.0->scrapy) (2.21)\n",
      "Requirement already satisfied: chardet<5,>=3.0.2 in /usr/local/lib/python3.9/site-packages (from requests>=2.1.0->tldextract->scrapy) (4.0.0)\n",
      "Requirement already satisfied: certifi>=2017.4.17 in /usr/local/lib/python3.9/site-packages (from requests>=2.1.0->tldextract->scrapy) (2020.12.5)\n",
      "Requirement already satisfied: urllib3<1.27,>=1.21.1 in /usr/local/lib/python3.9/site-packages (from requests>=2.1.0->tldextract->scrapy) (1.26.3)\n"
     ]
    }
   ],
   "source": [
    "!pip install scrapy"
   ]
  },
  {
   "cell_type": "code",
   "execution_count": 8,
   "id": "220a8142",
   "metadata": {},
   "outputs": [],
   "source": [
    "import scrapy\n",
    "\n",
    "PARLINFO = 'https://parlinfo.aph.gov.au/parlInfo'"
   ]
  },
  {
   "cell_type": "code",
   "execution_count": 11,
   "id": "db026e71",
   "metadata": {},
   "outputs": [],
   "source": [
    "class ParlSpider(scrapy.Spider):\n",
    "    name = 'parlinfo'\n",
    "    start_urls = [PARLINFO + '/parlInfo/search/summary/summary.w3p;adv=yes;orderBy=alphaAss;page=0;query=Dataset%3Amembers;resCount=200']\n",
    "\n",
    "    def parse(self, response):\n",
    "        for el in response.css('.sumMeta'):\n",
    "            yield {'description': el.css('::text').get()}\n",
    "\n",
    "#         for next_page in response.css('a.next'):\n",
    "#             yield response.follow(next_page, self.parse)\n"
   ]
  },
  {
   "cell_type": "code",
   "execution_count": 12,
   "id": "9cdc66ef",
   "metadata": {},
   "outputs": [],
   "source": [
    "spider = ParlSpider()"
   ]
  },
  {
   "cell_type": "code",
   "execution_count": null,
   "id": "694aa59e",
   "metadata": {},
   "outputs": [],
   "source": [
    "spider."
   ]
  }
 ],
 "metadata": {
  "kernelspec": {
   "display_name": "Python 3 (ipykernel)",
   "language": "python",
   "name": "python3"
  },
  "language_info": {
   "codemirror_mode": {
    "name": "ipython",
    "version": 3
   },
   "file_extension": ".py",
   "mimetype": "text/x-python",
   "name": "python",
   "nbconvert_exporter": "python",
   "pygments_lexer": "ipython3",
   "version": "3.9.9"
  }
 },
 "nbformat": 4,
 "nbformat_minor": 5
}
